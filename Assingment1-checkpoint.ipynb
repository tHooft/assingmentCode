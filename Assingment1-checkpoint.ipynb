{
 "cells": [
  {
   "cell_type": "code",
   "execution_count": 1,
   "metadata": {},
   "outputs": [],
   "source": [
    "import numpy as np\n",
    "import matplotlib.pyplot as plt\n",
    "import pandas as pd"
   ]
  },
  {
   "cell_type": "code",
   "execution_count": 2,
   "metadata": {},
   "outputs": [],
   "source": [
    "#This function takes previous estimations of s(t) and generates a new RUNGE-KUTTA estimation based upon given timepoints\n",
    "\n",
    "def NextApproximation(f, tPrev, sPrev, h):\n",
    "    \n",
    "    k1 = f(tPrev, sPrev)\n",
    "    k2 = f(tPrev + h/2, sPrev + h*(k1/2))\n",
    "    k3 = f(tPrev + h/2, sPrev + h*(k2/2))\n",
    "    k4 = f(tPrev + h, sPrev + h*(k3/2))\n",
    "    \n",
    "    s = sPrev + (h/6)*(k1 + 2*k2 + 2*k3 + k4)\n",
    "    \n",
    "    return s"
   ]
  },
  {
   "cell_type": "code",
   "execution_count": 31,
   "metadata": {},
   "outputs": [],
   "source": [
    "#Generating and recording a series of RUNGE-KUTTA estimations given a function and initial conditions\n",
    "\n",
    "def rk4(f,t0,x0,tau,n):\n",
    "    m = x0.size\n",
    "    traj = np.zeros((n+1,m+1))\n",
    "    t = np.linspace(0,n,(n+1))\n",
    "    h = (tau-t0)/n\n",
    "    timepoints = np.ones(n+1)*t0 + t*h\n",
    "    traj[:,0]= timepoints\n",
    "    \n",
    "    if m==1:\n",
    "        traj[0,1] = NextApproximation(f, timepoints, x0, h)\n",
    "        for j in range(1,n+1):\n",
    "            traj[j,1] = NextApproximation(f, timepoints, traj[j-1,1:m+1], h)\n",
    "    else:\n",
    "        for i in range(1,m+1):    \n",
    "            traj[0,i] = NextApproximation(f, timepoints, x0, h)[i-1]\n",
    "            for j in range(1,n+1):\n",
    "                traj[j,i] = NextApproximation(f, timepoints, traj[j-1,1:m+1], h)[i-1]\n",
    "    return traj"
   ]
  },
  {
   "cell_type": "code",
   "execution_count": 32,
   "metadata": {},
   "outputs": [
    {
     "name": "stdout",
     "output_type": "stream",
     "text": [
      "[nan nan]\n"
     ]
    },
    {
     "name": "stderr",
     "output_type": "stream",
     "text": [
      "<ipython-input-32-a210e6bb3ccd>:6: RuntimeWarning: overflow encountered in double_scalars\n",
      "  xvector[1] = lam - mu*x[1] - x[0]**2 - x[1]*x[0]\n",
      "<ipython-input-32-a210e6bb3ccd>:6: RuntimeWarning: invalid value encountered in double_scalars\n",
      "  xvector[1] = lam - mu*x[1] - x[0]**2 - x[1]*x[0]\n",
      "<ipython-input-2-27681c4c759d>:10: RuntimeWarning: invalid value encountered in add\n",
      "  s = sPrev + (h/6)*(k1 + 2*k2 + 2*k3 + k4)\n"
     ]
    },
    {
     "data": {
      "text/plain": [
       "array([[ 0.00000000e+000,  4.57954562e-001, -6.32250612e-002],\n",
       "       [ 3.20000000e+001,  1.60998478e+004,  2.89855864e+008],\n",
       "       [ 6.40000000e+001,  6.04989335e+027, -5.00883884e+067],\n",
       "       [ 9.60000000e+001,  4.53249397e+145,              nan],\n",
       "       [ 1.28000000e+002,              nan,              nan],\n",
       "       [ 1.60000000e+002,              nan,              nan]])"
      ]
     },
     "execution_count": 32,
     "metadata": {},
     "output_type": "execute_result"
    }
   ],
   "source": [
    "#Question 4\n",
    "\n",
    "def f(t, x):\n",
    "    lam = 0.25\n",
    "    mu = 0.55\n",
    "    xvector = np.zeros(2)\n",
    "    xvector[0] = -x[1]\n",
    "    xvector[1] = lam - mu*x[1] - x[0]**2 - x[1]*x[0]\n",
    "    return xvector\n",
    "\n",
    "t0 = 0\n",
    "x0 = np.array((0.499999,0))\n",
    "tau = 160\n",
    "n = 5\n",
    "\n",
    "approx = rk4(f, t0, x0, tau, n)\n",
    "approx"
   ]
  },
  {
   "cell_type": "code",
   "execution_count": 22,
   "metadata": {
    "scrolled": true
   },
   "outputs": [
    {
     "name": "stderr",
     "output_type": "stream",
     "text": [
      "<ipython-input-22-51ad388b1386>:26: RuntimeWarning: divide by zero encountered in double_scalars\n",
      "  table[k,5] = table[k,4]/table[k-1,4]\n"
     ]
    },
    {
     "data": {
      "text/plain": [
       "array([[1.00000000e+00, 1.00000000e+00, 6.56640625e+00, 3.84812442e+00,\n",
       "        0.00000000e+00, 0.00000000e+00],\n",
       "       [2.00000000e+00, 5.00000000e-01, 4.26014513e+00, 1.54186330e+00,\n",
       "        2.30626112e+00,            inf],\n",
       "       [4.00000000e+00, 2.50000000e-01, 3.41023015e+00, 6.91948326e-01,\n",
       "        8.49914974e-01, 3.68525041e-01],\n",
       "       [8.00000000e+00, 1.25000000e-01, 3.04640636e+00, 3.28124534e-01,\n",
       "        3.63823792e-01, 4.28070811e-01],\n",
       "       [1.60000000e+01, 6.25000000e-02, 2.87810738e+00, 1.59825549e-01,\n",
       "        1.68298985e-01, 4.62583779e-01],\n",
       "       [3.20000000e+01, 3.12500000e-02, 2.79716291e+00, 7.88810860e-02,\n",
       "        8.09444630e-02, 4.80956336e-01],\n",
       "       [6.40000000e+01, 1.56250000e-02, 2.75746784e+00, 3.91860119e-02,\n",
       "        3.96950741e-02, 4.90398881e-01],\n",
       "       [1.28000000e+02, 7.81250000e-03, 2.73781162e+00, 1.95297942e-02,\n",
       "        1.96562177e-02, 4.95180274e-01],\n",
       "       [2.56000000e+02, 3.90625000e-03, 2.72803098e+00, 9.74914661e-03,\n",
       "        9.78064758e-03, 4.97585433e-01],\n",
       "       [5.12000000e+02, 1.95312500e-03, 2.72315247e+00, 4.87064223e-03,\n",
       "        4.87850438e-03, 4.98791551e-01],\n",
       "       [1.02400000e+03, 9.76562500e-04, 2.72071617e+00, 2.43433916e-03,\n",
       "        2.43630307e-03, 4.99395486e-01],\n",
       "       [2.04800000e+03, 4.88281250e-04, 2.71949875e+00, 1.21692420e-03,\n",
       "        1.21741497e-03, 4.99697671e-01],\n",
       "       [4.09600000e+03, 2.44140625e-04, 2.71889023e+00, 6.08400764e-04,\n",
       "        6.08523432e-04, 4.99848817e-01],\n",
       "       [8.19200000e+03, 1.22070312e-04, 2.71858601e+00, 3.04185050e-04,\n",
       "        3.04215714e-04, 4.99924404e-01],\n",
       "       [1.63840000e+04, 6.10351562e-05, 2.71843392e+00, 1.52088692e-04,\n",
       "        1.52096358e-04, 4.99962201e-01]])"
      ]
     },
     "execution_count": 22,
     "metadata": {},
     "output_type": "execute_result"
    }
   ],
   "source": [
    "#Question 2\n",
    "\n",
    "def f(t, x):\n",
    "    return x\n",
    "t0 = 0\n",
    "x0 = np.array((1))\n",
    "tau = 1\n",
    "points = 15\n",
    "table = np.zeros((points, 6))\n",
    "n = np.ones(points)\n",
    "\n",
    "\n",
    "table[0,0] = n[0]\n",
    "table[0,1] = (tau-t0)/n[0]\n",
    "table[0,2] = rk4(f, t0, x0, tau, n=int(n[0]))[int(n[0]),1]\n",
    "table[0,3] = abs(table[0,2] - np.exp(1))\n",
    "table[0,4] = 0\n",
    "table[0,5] = 0\n",
    "\n",
    "for k in range(1,points):\n",
    "    n[k] = 2*n[k-1]\n",
    "    table[k,0] = n[k]\n",
    "    approx = rk4(f, t0, x0, tau, int(n[k]))[int(n[k]),1]\n",
    "    table[k,1] = (tau-t0)/n[k]\n",
    "    table[k,2] = approx\n",
    "    table[k,3] = abs(approx - np.exp(1))\n",
    "    table[k,4] = abs(approx - table[k-1,2])\n",
    "    table[k,5] = table[k,4]/table[k-1,4]\n",
    "table"
   ]
  },
  {
   "cell_type": "code",
   "execution_count": 5,
   "metadata": {},
   "outputs": [
    {
     "data": {
      "text/html": [
       "<div>\n",
       "<style scoped>\n",
       "    .dataframe tbody tr th:only-of-type {\n",
       "        vertical-align: middle;\n",
       "    }\n",
       "\n",
       "    .dataframe tbody tr th {\n",
       "        vertical-align: top;\n",
       "    }\n",
       "\n",
       "    .dataframe thead th {\n",
       "        text-align: right;\n",
       "    }\n",
       "</style>\n",
       "<table border=\"1\" class=\"dataframe\">\n",
       "  <thead>\n",
       "    <tr style=\"text-align: right;\">\n",
       "      <th></th>\n",
       "      <th>Number of gridpoints</th>\n",
       "      <th>Step size</th>\n",
       "      <th>Approximation</th>\n",
       "      <th>Absolute approximation error</th>\n",
       "      <th>Difference in approximation error</th>\n",
       "      <th>Ratio of last two approximation differences</th>\n",
       "    </tr>\n",
       "  </thead>\n",
       "  <tbody>\n",
       "    <tr>\n",
       "      <th>0</th>\n",
       "      <td>1.0</td>\n",
       "      <td>1.000000</td>\n",
       "      <td>6.566406</td>\n",
       "      <td>3.848124</td>\n",
       "      <td>0.000000</td>\n",
       "      <td>0.000000</td>\n",
       "    </tr>\n",
       "    <tr>\n",
       "      <th>1</th>\n",
       "      <td>2.0</td>\n",
       "      <td>0.500000</td>\n",
       "      <td>4.260145</td>\n",
       "      <td>1.541863</td>\n",
       "      <td>2.306261</td>\n",
       "      <td>inf</td>\n",
       "    </tr>\n",
       "    <tr>\n",
       "      <th>2</th>\n",
       "      <td>4.0</td>\n",
       "      <td>0.250000</td>\n",
       "      <td>3.410230</td>\n",
       "      <td>0.691948</td>\n",
       "      <td>0.849915</td>\n",
       "      <td>0.368525</td>\n",
       "    </tr>\n",
       "    <tr>\n",
       "      <th>3</th>\n",
       "      <td>8.0</td>\n",
       "      <td>0.125000</td>\n",
       "      <td>3.046406</td>\n",
       "      <td>0.328125</td>\n",
       "      <td>0.363824</td>\n",
       "      <td>0.428071</td>\n",
       "    </tr>\n",
       "    <tr>\n",
       "      <th>4</th>\n",
       "      <td>16.0</td>\n",
       "      <td>0.062500</td>\n",
       "      <td>2.878107</td>\n",
       "      <td>0.159826</td>\n",
       "      <td>0.168299</td>\n",
       "      <td>0.462584</td>\n",
       "    </tr>\n",
       "    <tr>\n",
       "      <th>5</th>\n",
       "      <td>32.0</td>\n",
       "      <td>0.031250</td>\n",
       "      <td>2.797163</td>\n",
       "      <td>0.078881</td>\n",
       "      <td>0.080944</td>\n",
       "      <td>0.480956</td>\n",
       "    </tr>\n",
       "    <tr>\n",
       "      <th>6</th>\n",
       "      <td>64.0</td>\n",
       "      <td>0.015625</td>\n",
       "      <td>2.757468</td>\n",
       "      <td>0.039186</td>\n",
       "      <td>0.039695</td>\n",
       "      <td>0.490399</td>\n",
       "    </tr>\n",
       "    <tr>\n",
       "      <th>7</th>\n",
       "      <td>128.0</td>\n",
       "      <td>0.007812</td>\n",
       "      <td>2.737812</td>\n",
       "      <td>0.019530</td>\n",
       "      <td>0.019656</td>\n",
       "      <td>0.495180</td>\n",
       "    </tr>\n",
       "    <tr>\n",
       "      <th>8</th>\n",
       "      <td>256.0</td>\n",
       "      <td>0.003906</td>\n",
       "      <td>2.728031</td>\n",
       "      <td>0.009749</td>\n",
       "      <td>0.009781</td>\n",
       "      <td>0.497585</td>\n",
       "    </tr>\n",
       "    <tr>\n",
       "      <th>9</th>\n",
       "      <td>512.0</td>\n",
       "      <td>0.001953</td>\n",
       "      <td>2.723152</td>\n",
       "      <td>0.004871</td>\n",
       "      <td>0.004879</td>\n",
       "      <td>0.498792</td>\n",
       "    </tr>\n",
       "    <tr>\n",
       "      <th>10</th>\n",
       "      <td>1024.0</td>\n",
       "      <td>0.000977</td>\n",
       "      <td>2.720716</td>\n",
       "      <td>0.002434</td>\n",
       "      <td>0.002436</td>\n",
       "      <td>0.499395</td>\n",
       "    </tr>\n",
       "    <tr>\n",
       "      <th>11</th>\n",
       "      <td>2048.0</td>\n",
       "      <td>0.000488</td>\n",
       "      <td>2.719499</td>\n",
       "      <td>0.001217</td>\n",
       "      <td>0.001217</td>\n",
       "      <td>0.499698</td>\n",
       "    </tr>\n",
       "    <tr>\n",
       "      <th>12</th>\n",
       "      <td>4096.0</td>\n",
       "      <td>0.000244</td>\n",
       "      <td>2.718890</td>\n",
       "      <td>0.000608</td>\n",
       "      <td>0.000609</td>\n",
       "      <td>0.499849</td>\n",
       "    </tr>\n",
       "    <tr>\n",
       "      <th>13</th>\n",
       "      <td>8192.0</td>\n",
       "      <td>0.000122</td>\n",
       "      <td>2.718586</td>\n",
       "      <td>0.000304</td>\n",
       "      <td>0.000304</td>\n",
       "      <td>0.499924</td>\n",
       "    </tr>\n",
       "    <tr>\n",
       "      <th>14</th>\n",
       "      <td>16384.0</td>\n",
       "      <td>0.000061</td>\n",
       "      <td>2.718434</td>\n",
       "      <td>0.000152</td>\n",
       "      <td>0.000152</td>\n",
       "      <td>0.499962</td>\n",
       "    </tr>\n",
       "  </tbody>\n",
       "</table>\n",
       "</div>"
      ],
      "text/plain": [
       "    Number of gridpoints  Step size  Approximation  \\\n",
       "0                    1.0   1.000000       6.566406   \n",
       "1                    2.0   0.500000       4.260145   \n",
       "2                    4.0   0.250000       3.410230   \n",
       "3                    8.0   0.125000       3.046406   \n",
       "4                   16.0   0.062500       2.878107   \n",
       "5                   32.0   0.031250       2.797163   \n",
       "6                   64.0   0.015625       2.757468   \n",
       "7                  128.0   0.007812       2.737812   \n",
       "8                  256.0   0.003906       2.728031   \n",
       "9                  512.0   0.001953       2.723152   \n",
       "10                1024.0   0.000977       2.720716   \n",
       "11                2048.0   0.000488       2.719499   \n",
       "12                4096.0   0.000244       2.718890   \n",
       "13                8192.0   0.000122       2.718586   \n",
       "14               16384.0   0.000061       2.718434   \n",
       "\n",
       "    Absolute approximation error  Difference in approximation error  \\\n",
       "0                       3.848124                           0.000000   \n",
       "1                       1.541863                           2.306261   \n",
       "2                       0.691948                           0.849915   \n",
       "3                       0.328125                           0.363824   \n",
       "4                       0.159826                           0.168299   \n",
       "5                       0.078881                           0.080944   \n",
       "6                       0.039186                           0.039695   \n",
       "7                       0.019530                           0.019656   \n",
       "8                       0.009749                           0.009781   \n",
       "9                       0.004871                           0.004879   \n",
       "10                      0.002434                           0.002436   \n",
       "11                      0.001217                           0.001217   \n",
       "12                      0.000608                           0.000609   \n",
       "13                      0.000304                           0.000304   \n",
       "14                      0.000152                           0.000152   \n",
       "\n",
       "    Ratio of last two approximation differences  \n",
       "0                                      0.000000  \n",
       "1                                           inf  \n",
       "2                                      0.368525  \n",
       "3                                      0.428071  \n",
       "4                                      0.462584  \n",
       "5                                      0.480956  \n",
       "6                                      0.490399  \n",
       "7                                      0.495180  \n",
       "8                                      0.497585  \n",
       "9                                      0.498792  \n",
       "10                                     0.499395  \n",
       "11                                     0.499698  \n",
       "12                                     0.499849  \n",
       "13                                     0.499924  \n",
       "14                                     0.499962  "
      ]
     },
     "execution_count": 5,
     "metadata": {},
     "output_type": "execute_result"
    }
   ],
   "source": [
    "df = pd.DataFrame(table)\n",
    "df.columns = [\"Number of gridpoints\", \"Step size\",\"Approximation\", \"Absolute approximation error\", \"Difference in approximation error\", \"Ratio of last two approximation differences\"]\n",
    "df"
   ]
  },
  {
   "cell_type": "code",
   "execution_count": 6,
   "metadata": {},
   "outputs": [
    {
     "data": {
      "image/png": "[encoded data removed]",
      "text/plain": [
       "<Figure size 432x288 with 1 Axes>"
      ]
     },
     "metadata": {
      "needs_background": "light"
     },
     "output_type": "display_data"
    }
   ],
   "source": [
    "fig = plt.figure()\n",
    "ax = plt.axes()\n",
    "plt.title('Numerical Approximation of e')\n",
    "\n",
    "x = np.linspace(0, 10, 1000)\n",
    "ax.plot(range(0, 15), table[:,2]);"
   ]
  },
  {
   "cell_type": "code",
   "execution_count": 7,
   "metadata": {},
   "outputs": [
    {
     "data": {
      "image/png": "[encoded data removed]",
      "text/plain": [
       "<Figure size 432x288 with 1 Axes>"
      ]
     },
     "metadata": {
      "needs_background": "light"
     },
     "output_type": "display_data"
    }
   ],
   "source": [
    "fig = plt.figure()\n",
    "ax = plt.axes()\n",
    "plt.title('Absolute Error')\n",
    "plt.xlabel(\"Iteration\")\n",
    "plt.ylabel(\"Difference from e\")\n",
    "\n",
    "x = np.linspace(0, 10, 1000)\n",
    "ax.plot(range(0, 15), table[:,3]);"
   ]
  },
  {
   "cell_type": "code",
   "execution_count": 8,
   "metadata": {},
   "outputs": [
    {
     "data": {
      "image/png": "[encoded data removed]",
      "text/plain": [
       "<Figure size 432x288 with 1 Axes>"
      ]
     },
     "metadata": {
      "needs_background": "light"
     },
     "output_type": "display_data"
    }
   ],
   "source": [
    "fig = plt.figure()\n",
    "ax = plt.axes()\n",
    "plt.title('Absolute Error in log terms')\n",
    "logn = np.log(table[:,0])\n",
    "logerror = np.log(table[:,3])\n",
    "plt.xlabel('Log(n)')\n",
    "plt.ylabel('Log(Absolute Approximation Error)')\n",
    "ax.plot(logn, logerror);"
   ]
  }
 ],
 "metadata": {
  "kernelspec": {
   "display_name": "Python 3",
   "language": "python",
   "name": "python3"
  },
  "language_info": {
   "codemirror_mode": {
    "name": "ipython",
    "version": 3
   },
   "file_extension": ".py",
   "mimetype": "text/x-python",
   "name": "python",
   "nbconvert_exporter": "python",
   "pygments_lexer": "ipython3",
   "version": "3.8.5"
  }
 },
 "nbformat": 4,
 "nbformat_minor": 4
}
